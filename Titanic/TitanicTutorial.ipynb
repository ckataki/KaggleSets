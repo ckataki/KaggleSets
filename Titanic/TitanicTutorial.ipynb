{
 "cells": [
  {
   "cell_type": "markdown",
   "metadata": {},
   "source": [
    "In this notebook, we'll simply compare all features with the survival rate and try to find the ones that actually have an effect. Essentially, we're trying to find features that will \"cause\" survival, rather than just \"correlate to\" survival."
   ]
  },
  {
   "cell_type": "code",
   "execution_count": 1,
   "metadata": {
    "collapsed": false
   },
   "outputs": [],
   "source": [
    "# This Python 3 environment comes with many helpful analytics libraries installed\n",
    "# It is defined by the kaggle/python docker image: https://github.com/kaggle/docker-python\n",
    "# For example, here's several helpful packages to load in \n",
    "\n",
    "import numpy as np # linear algebra\n",
    "import pandas as pd # data processing, CSV file I/O (e.g. pd.read_csv)\n",
    "%matplotlib inline\n",
    "import matplotlib.pyplot as plt\n",
    "import seaborn as sns # data visualization\n",
    "\n",
    "# Input data files are available in the \"../input/\" directory.\n",
    "# For example, running this (by clicking run or pressing Shift+Enter) will list the files in the input directory\n",
    "\n",
    "# Any results you write to the current directory are saved as output.\n",
    "\n",
    "test_data = pd.read_csv(\"test.csv\")\n",
    "train_data = pd.read_csv(\"train.csv\")\n",
    "train_data.rename(columns={'SibSp':'SiblingsSpouses', 'Parch':'ParentsChildren'}, inplace = True)\n",
    "test_data.rename(columns={'SibSp':'SiblingsSpouses', 'Parch':'ParentsChildren'}, inplace = True)\n",
    "test_columns = test_data.columns\n",
    "train_columns = train_data.columns"
   ]
  },
  {
   "cell_type": "markdown",
   "metadata": {},
   "source": [
    "We try to find rows with a NaN for every column. This would give missing values for a feature that we can try to approximate."
   ]
  },
  {
   "cell_type": "code",
   "execution_count": 2,
   "metadata": {
    "collapsed": false
   },
   "outputs": [
    {
     "name": "stdout",
     "output_type": "stream",
     "text": [
      "\n",
      "NaN rows per column in training data\n",
      "\n",
      "PassengerId :  0\n",
      "Survived :  0\n",
      "Pclass :  0\n",
      "Name :  0\n",
      "Sex :  0\n",
      "Age :  177\n",
      "SiblingsSpouses :  0\n",
      "ParentsChildren :  0\n",
      "Ticket :  0\n",
      "Fare :  0\n",
      "Cabin :  687\n",
      "Embarked :  2\n",
      "\n",
      "NaN rows per column in test data\n",
      "\n",
      "PassengerId :  0\n",
      "Pclass :  0\n",
      "Name :  0\n",
      "Sex :  0\n",
      "Age :  86\n",
      "SiblingsSpouses :  0\n",
      "ParentsChildren :  0\n",
      "Ticket :  0\n",
      "Fare :  1\n",
      "Cabin :  327\n",
      "Embarked :  0\n"
     ]
    }
   ],
   "source": [
    "print (\"\\nNaN rows per column in training data\\n\")\n",
    "for col in train_columns:\n",
    "    print (col, \": \", train_data[train_data[col].isnull()].shape[0])\n",
    "    \n",
    "print (\"\\nNaN rows per column in test data\\n\")\n",
    "for col in test_columns:\n",
    "    print (col, \": \", test_data[test_data[col].isnull()].shape[0])"
   ]
  },
  {
   "cell_type": "markdown",
   "metadata": {},
   "source": [
    "A lot of ages are missing; and it's probably likely that age would be a good feature. Let's try to approximate the missing values"
   ]
  },
  {
   "cell_type": "markdown",
   "metadata": {},
   "source": [
    "We are going to approximate the ages by using median values. We divide the dataset into male and female, and also look at the title in the name. \n",
    "\n",
    "Someone with Master in the name is likely to be 18 years or younger. \n",
    "\n",
    "Someone with Miss is either younger than 18, or older but un-married. For those older, we look for females who are not traveling with parents or children. It's an approximation, but it should work for our dataset.\n",
    "\n",
    "We could have also just taken the median per sex and approximate it that way. It shouldn't make a big difference in the accuracy for this particular problem."
   ]
  },
  {
   "cell_type": "code",
   "execution_count": 3,
   "metadata": {
    "collapsed": true
   },
   "outputs": [],
   "source": [
    "temp = train_data[pd.notnull(train_data['Age'])]\n",
    "maletemp = temp[temp['Sex'] == 'male']\n",
    "femaletemp = temp[temp['Sex'] == 'female']\n",
    "youngmisstemp = femaletemp[femaletemp['Name'].str.contains('Miss')]\n",
    "youngmisstemp = youngmisstemp[youngmisstemp['ParentsChildren'] > 0]\n",
    "oldmisstemp = femaletemp[femaletemp['Name'].str.contains('Miss')]\n",
    "oldmisstemp = oldmisstemp[oldmisstemp['ParentsChildren'] == 0]\n",
    "\n",
    "mastermedian = maletemp[maletemp['Name'].str.contains('Master')]['Age'].median()\n",
    "mistermedian = maletemp[maletemp['Name'].str.contains('Mr.')]['Age'].median()\n",
    "mrsmedian = femaletemp[femaletemp['Name'].str.contains('Mrs.')]['Age'].median()\n",
    "youngmissmedian = youngmisstemp['Age'].median()\n",
    "oldmissmedian = oldmisstemp['Age'].median()"
   ]
  },
  {
   "cell_type": "code",
   "execution_count": 4,
   "metadata": {
    "collapsed": false
   },
   "outputs": [
    {
     "name": "stdout",
     "output_type": "stream",
     "text": [
      "MasterMedian 3.5\n",
      "MisterMedian 30.0\n",
      "MrsMedian 35.0\n",
      "OldMissMedian 26.0\n",
      "YoungMissMedian 9.0\n"
     ]
    }
   ],
   "source": [
    "print(\"MasterMedian\", mastermedian)\n",
    "print(\"MisterMedian\", mistermedian)\n",
    "print(\"MrsMedian\", mrsmedian)\n",
    "print(\"OldMissMedian\", oldmissmedian)\n",
    "print(\"YoungMissMedian\", youngmissmedian)"
   ]
  },
  {
   "cell_type": "markdown",
   "metadata": {},
   "source": [
    "So now we have a decent approximation of the unavailable ages\n",
    "\n",
    "If male, and name contains Master, use 3.5 \n",
    "\n",
    "If male, and name contains Mr., use 30\n",
    "\n",
    "If female, and name contains Mrs., use 35\n",
    "\n",
    "if female, and name contains Miss, and ParentsChildren>0, use 9\n",
    "\n",
    "If female, and name contains Miss, and ParentsChildren=0, use 26"
   ]
  },
  {
   "cell_type": "code",
   "execution_count": 5,
   "metadata": {
    "collapsed": true
   },
   "outputs": [],
   "source": [
    "mastermask = (train_data['Name'].str.contains('Master')) & (train_data['Sex'] == 'male') & (np.isnan(train_data['Age']))\n",
    "mrmask = (train_data['Name'].str.contains('Mr.')) & (train_data['Sex'] == 'male') & (np.isnan(train_data['Age']))\n",
    "mrsmask = (train_data['Name'].str.contains('Mrs.')) & (train_data['Sex'] == 'female') & (np.isnan(train_data['Age']))\n",
    "youngmissmask = (train_data['Name'].str.contains('Miss')) & (train_data['Sex'] == 'female') & (train_data['ParentsChildren']>0) & (np.isnan(train_data['Age']))\n",
    "oldmissmask = (train_data['Name'].str.contains('Miss')) & (train_data['Sex'] == 'female') & (train_data['ParentsChildren']==0) & (np.isnan(train_data['Age']))"
   ]
  },
  {
   "cell_type": "code",
   "execution_count": 6,
   "metadata": {
    "collapsed": true
   },
   "outputs": [],
   "source": [
    "train_data.loc[mastermask, 'Age'] = 3.5\n",
    "train_data.loc[mrmask, 'Age'] = 30\n",
    "train_data.loc[mrsmask, 'Age'] = 35\n",
    "train_data.loc[youngmissmask, 'Age'] = 9\n",
    "train_data.loc[oldmissmask, 'Age'] = 26"
   ]
  },
  {
   "cell_type": "markdown",
   "metadata": {},
   "source": [
    "Let's look at the training data and make sure there are no NaN values for age"
   ]
  },
  {
   "cell_type": "code",
   "execution_count": 7,
   "metadata": {
    "collapsed": false
   },
   "outputs": [
    {
     "name": "stdout",
     "output_type": "stream",
     "text": [
      "     PassengerId  Survived  Pclass                       Name   Sex  Age  \\\n",
      "766          767         0       1  Brewe, Dr. Arthur Jackson  male  NaN   \n",
      "\n",
      "     SiblingsSpouses  ParentsChildren  Ticket  Fare Cabin Embarked  \n",
      "766                0                0  112379  39.6   NaN        C  \n"
     ]
    }
   ],
   "source": [
    "print (train_data[pd.isnull(train_data['Age'])])"
   ]
  },
  {
   "cell_type": "markdown",
   "metadata": {},
   "source": [
    "Looks like we have one entry; a Dr. Arthur Jackson Brewe. We can manually set his age to 30."
   ]
  },
  {
   "cell_type": "code",
   "execution_count": 8,
   "metadata": {
    "collapsed": false
   },
   "outputs": [
    {
     "name": "stdout",
     "output_type": "stream",
     "text": [
      "Empty DataFrame\n",
      "Columns: [PassengerId, Survived, Pclass, Name, Sex, Age, SiblingsSpouses, ParentsChildren, Ticket, Fare, Cabin, Embarked]\n",
      "Index: []\n"
     ]
    }
   ],
   "source": [
    "train_data.loc[train_data['PassengerId'] == 767, 'Age'] = 30\n",
    "print (train_data[pd.isnull(train_data['Age'])])"
   ]
  },
  {
   "cell_type": "markdown",
   "metadata": {},
   "source": [
    "So now, our training data has no NaN age values. Let's now look at the test set, and do a similar approximation for the missing ages there. As another approximation, we will use the same median values as the ones we used for the training set. Again, we could have simply used median values per sex."
   ]
  },
  {
   "cell_type": "code",
   "execution_count": 9,
   "metadata": {
    "collapsed": true
   },
   "outputs": [],
   "source": [
    "temp = test_data\n",
    "\n",
    "mastermask = (temp['Name'].str.contains('Master')) & (temp['Sex'] == 'male') & (np.isnan(temp['Age']))\n",
    "mrmask = (temp['Name'].str.contains('Mr.')) & (temp['Sex'] == 'male') & (np.isnan(temp['Age']))\n",
    "mrsmask = (temp['Name'].str.contains('Mrs.')) & (temp['Sex'] == 'female') & (np.isnan(temp['Age']))\n",
    "youngmissmask = (temp['Name'].str.contains('Miss')) & (temp['Sex'] == 'female') & (temp['ParentsChildren']>0) & (np.isnan(temp['Age']))\n",
    "oldmissmask = (temp['Name'].str.contains('Miss')) & (temp['Sex'] == 'female') & (temp['ParentsChildren']==0) & (np.isnan(temp['Age']))\n",
    "oldmissmask2 = (temp['Name'].str.contains('Ms.')) & (temp['Sex'] == 'female') & (temp['ParentsChildren']==0) & (np.isnan(temp['Age']))\n",
    "\n",
    "temp.loc[mastermask, 'Age'] = 3.5\n",
    "temp.loc[mrmask, 'Age'] = 30\n",
    "temp.loc[mrsmask, 'Age'] = 35\n",
    "temp.loc[youngmissmask, 'Age'] = 9\n",
    "temp.loc[oldmissmask, 'Age'] = 26\n",
    "temp.loc[oldmissmask2, 'Age'] = 26"
   ]
  },
  {
   "cell_type": "code",
   "execution_count": 10,
   "metadata": {
    "collapsed": false
   },
   "outputs": [
    {
     "name": "stdout",
     "output_type": "stream",
     "text": [
      "Empty DataFrame\n",
      "Columns: [PassengerId, Pclass, Name, Sex, Age, SiblingsSpouses, ParentsChildren, Ticket, Fare, Cabin, Embarked]\n",
      "Index: []\n"
     ]
    }
   ],
   "source": [
    "print (temp[pd.isnull(temp['Age'])])"
   ]
  },
  {
   "cell_type": "markdown",
   "metadata": {},
   "source": [
    "So now our test data is also cleaned up for Age. Let's save it in a new variable; temp is too generic."
   ]
  },
  {
   "cell_type": "code",
   "execution_count": 11,
   "metadata": {
    "collapsed": true
   },
   "outputs": [],
   "source": [
    "test_data_clean = temp"
   ]
  },
  {
   "cell_type": "markdown",
   "metadata": {},
   "source": [
    "Now we will create a few graphs; mapping a few interesting features individually versus survival"
   ]
  },
  {
   "cell_type": "code",
   "execution_count": 12,
   "metadata": {
    "collapsed": false
   },
   "outputs": [
    {
     "name": "stdout",
     "output_type": "stream",
     "text": [
      "Pclass v Survived\n"
     ]
    }
   ],
   "source": [
    "print (\"Pclass v Survived\")"
   ]
  },
  {
   "cell_type": "code",
   "execution_count": 13,
   "metadata": {
    "collapsed": false
   },
   "outputs": [
    {
     "data": {
      "text/plain": [
       "<matplotlib.axes._subplots.AxesSubplot at 0x7f69f5adde10>"
      ]
     },
     "execution_count": 13,
     "metadata": {},
     "output_type": "execute_result"
    },
    {
     "data": {
      "image/png": "[encoded data removed]",
      "text/plain": [
       "<matplotlib.figure.Figure at 0x7f69f8e9a0b8>"
      ]
     },
     "metadata": {},
     "output_type": "display_data"
    },
    {
     "data": {
      "image/png": "[encoded data removed]",
      "text/plain": [
       "<matplotlib.figure.Figure at 0x7f69f8e9a940>"
      ]
     },
     "metadata": {},
     "output_type": "display_data"
    }
   ],
   "source": [
    "temp = train_data[['Survived','Pclass']]\n",
    "plt.figure()\n",
    "sns.countplot(x='Pclass', hue='Survived', data=temp)\n",
    "plt.figure()\n",
    "sns.barplot(x='Pclass', y='Survived', data=temp)"
   ]
  },
  {
   "cell_type": "code",
   "execution_count": 14,
   "metadata": {
    "collapsed": false
   },
   "outputs": [
    {
     "name": "stdout",
     "output_type": "stream",
     "text": [
      "Sex v Survived\n"
     ]
    }
   ],
   "source": [
    "print (\"Sex v Survived\")"
   ]
  },
  {
   "cell_type": "code",
   "execution_count": 15,
   "metadata": {
    "collapsed": false
   },
   "outputs": [
    {
     "data": {
      "text/plain": [
       "<matplotlib.axes._subplots.AxesSubplot at 0x7f69f596df98>"
      ]
     },
     "execution_count": 15,
     "metadata": {},
     "output_type": "execute_result"
    },
    {
     "data": {
      "image/png": "[encoded data removed]",
      "text/plain": [
       "<matplotlib.figure.Figure at 0x7f69f59dc1d0>"
      ]
     },
     "metadata": {},
     "output_type": "display_data"
    },
    {
     "data": {
      "image/png": "[encoded data removed]",
      "text/plain": [
       "<matplotlib.figure.Figure at 0x7f69f5a6a668>"
      ]
     },
     "metadata": {},
     "output_type": "display_data"
    }
   ],
   "source": [
    "temp = train_data[['Survived','Sex']]\n",
    "plt.figure()\n",
    "sns.countplot(x='Sex', hue='Survived', data=temp)\n",
    "plt.figure()\n",
    "sns.barplot(x='Sex', y='Survived', data=temp)"
   ]
  },
  {
   "cell_type": "code",
   "execution_count": 16,
   "metadata": {
    "collapsed": false
   },
   "outputs": [
    {
     "name": "stdout",
     "output_type": "stream",
     "text": [
      "Age v Survived\n"
     ]
    }
   ],
   "source": [
    "print (\"Age v Survived\")"
   ]
  },
  {
   "cell_type": "code",
   "execution_count": 17,
   "metadata": {
    "collapsed": false
   },
   "outputs": [
    {
     "data": {
      "text/plain": [
       "<matplotlib.axes._subplots.AxesSubplot at 0x7f69f5b33f98>"
      ]
     },
     "execution_count": 17,
     "metadata": {},
     "output_type": "execute_result"
    },
    {
     "data": {
      "image/png": "[encoded data removed]",
      "text/plain": [
       "<matplotlib.figure.Figure at 0x7f69f5968a20>"
      ]
     },
     "metadata": {},
     "output_type": "display_data"
    },
    {
     "data": {
      "image/png": "[encoded data removed]",
      "text/plain": [
       "<matplotlib.figure.Figure at 0x7f69f5b33e80>"
      ]
     },
     "metadata": {},
     "output_type": "display_data"
    }
   ],
   "source": [
    "temp = train_data[['Survived','Age']]\n",
    "\n",
    "plt.figure()\n",
    "plt.title('Non survivors')\n",
    "sns.distplot(temp['Age'][(temp['Survived'] == 0)])\n",
    "plt.figure()\n",
    "plt.title('Survivors')\n",
    "sns.distplot(temp['Age'][(temp['Survived'] == 1)])"
   ]
  },
  {
   "cell_type": "markdown",
   "metadata": {},
   "source": [
    "The histograms didn't really help much. Let's try to separate the sexes, and put the ages in buckets of 10."
   ]
  },
  {
   "cell_type": "code",
   "execution_count": 18,
   "metadata": {
    "collapsed": false
   },
   "outputs": [
    {
     "name": "stderr",
     "output_type": "stream",
     "text": [
      "/home/mickey/anaconda2/envs/MLPy3/lib/python3.6/site-packages/ipykernel/__main__.py:5: SettingWithCopyWarning: \n",
      "A value is trying to be set on a copy of a slice from a DataFrame.\n",
      "Try using .loc[row_indexer,col_indexer] = value instead\n",
      "\n",
      "See the caveats in the documentation: http://pandas.pydata.org/pandas-docs/stable/indexing.html#indexing-view-versus-copy\n",
      "/home/mickey/anaconda2/envs/MLPy3/lib/python3.6/site-packages/ipykernel/__main__.py:13: SettingWithCopyWarning: \n",
      "A value is trying to be set on a copy of a slice from a DataFrame.\n",
      "Try using .loc[row_indexer,col_indexer] = value instead\n",
      "\n",
      "See the caveats in the documentation: http://pandas.pydata.org/pandas-docs/stable/indexing.html#indexing-view-versus-copy\n"
     ]
    },
    {
     "data": {
      "text/plain": [
       "<matplotlib.axes._subplots.AxesSubplot at 0x7f69f57f9e10>"
      ]
     },
     "execution_count": 18,
     "metadata": {},
     "output_type": "execute_result"
    },
    {
     "data": {
      "image/png": "[encoded data removed]",
      "text/plain": [
       "<matplotlib.figure.Figure at 0x7f69f57d9ef0>"
      ]
     },
     "metadata": {},
     "output_type": "display_data"
    },
    {
     "data": {
      "image/png": "[encoded data removed]",
      "text/plain": [
       "<matplotlib.figure.Figure at 0x7f69f58a5b38>"
      ]
     },
     "metadata": {},
     "output_type": "display_data"
    },
    {
     "data": {
      "image/png": "[encoded data removed]",
      "text/plain": [
       "<matplotlib.figure.Figure at 0x7f69f5a22978>"
      ]
     },
     "metadata": {},
     "output_type": "display_data"
    },
    {
     "data": {
      "image/png": "[encoded data removed]",
      "text/plain": [
       "<matplotlib.figure.Figure at 0x7f69f5715f28>"
      ]
     },
     "metadata": {},
     "output_type": "display_data"
    }
   ],
   "source": [
    "temp = train_data[['Age', 'Survived', 'Sex']]\n",
    "female_temp = temp[temp['Sex'] == 'female']\n",
    "male_temp = temp[temp['Sex'] == 'male']\n",
    "\n",
    "female_temp['AgeBucket'] = female_temp['Age'].apply(lambda x: x//10)\n",
    "plt.figure()\n",
    "plt.title('Females')\n",
    "sns.countplot(x='AgeBucket', hue='Survived', data = female_temp)\n",
    "plt.figure()\n",
    "plt.title('Females')\n",
    "sns.barplot(x='AgeBucket', y='Survived', data = female_temp)\n",
    "\n",
    "male_temp['AgeBucket'] = male_temp['Age'].apply(lambda x: x//10)\n",
    "plt.figure()\n",
    "plt.title('Males')\n",
    "sns.countplot(x='AgeBucket', hue='Survived', data = male_temp)\n",
    "plt.figure()\n",
    "plt.title('Males')\n",
    "sns.barplot(x='AgeBucket', y='Survived', data = male_temp)"
   ]
  },
  {
   "cell_type": "code",
   "execution_count": 19,
   "metadata": {
    "collapsed": false
   },
   "outputs": [
    {
     "name": "stdout",
     "output_type": "stream",
     "text": [
      "SiblingsSpouses v Survived\n"
     ]
    }
   ],
   "source": [
    "print (\"SiblingsSpouses v Survived\")"
   ]
  },
  {
   "cell_type": "markdown",
   "metadata": {},
   "source": [
    "Let's modify the data a little; instead of taking number of siblings/spouses, we will only do a binary presence or absence of siblings/spouses"
   ]
  },
  {
   "cell_type": "code",
   "execution_count": 20,
   "metadata": {
    "collapsed": false
   },
   "outputs": [
    {
     "name": "stderr",
     "output_type": "stream",
     "text": [
      "/home/mickey/anaconda2/envs/MLPy3/lib/python3.6/site-packages/ipykernel/__main__.py:2: SettingWithCopyWarning: \n",
      "A value is trying to be set on a copy of a slice from a DataFrame.\n",
      "Try using .loc[row_indexer,col_indexer] = value instead\n",
      "\n",
      "See the caveats in the documentation: http://pandas.pydata.org/pandas-docs/stable/indexing.html#indexing-view-versus-copy\n",
      "  from ipykernel import kernelapp as app\n"
     ]
    },
    {
     "data": {
      "text/plain": [
       "<matplotlib.axes._subplots.AxesSubplot at 0x7f69f58f5160>"
      ]
     },
     "execution_count": 20,
     "metadata": {},
     "output_type": "execute_result"
    },
    {
     "data": {
      "image/png": "[encoded data removed]",
      "text/plain": [
       "<matplotlib.figure.Figure at 0x7f69f5750198>"
      ]
     },
     "metadata": {},
     "output_type": "display_data"
    },
    {
     "data": {
      "image/png": "[encoded data removed]",
      "text/plain": [
       "<matplotlib.figure.Figure at 0x7f69f5709c88>"
      ]
     },
     "metadata": {},
     "output_type": "display_data"
    }
   ],
   "source": [
    "temp = train_data[['Survived','SiblingsSpouses']]\n",
    "temp['SiblingsSpouses'] = temp['SiblingsSpouses'].apply(lambda x: 1 if x > 0 else 0)\n",
    "\n",
    "plt.figure()\n",
    "sns.countplot(x='SiblingsSpouses', hue='Survived', data=temp)\n",
    "plt.figure()\n",
    "sns.barplot(x='SiblingsSpouses', y='Survived', data=temp)"
   ]
  },
  {
   "cell_type": "code",
   "execution_count": 21,
   "metadata": {
    "collapsed": false
   },
   "outputs": [
    {
     "name": "stdout",
     "output_type": "stream",
     "text": [
      "ParentsChildren v Survived\n"
     ]
    }
   ],
   "source": [
    "print (\"ParentsChildren v Survived\")"
   ]
  },
  {
   "cell_type": "markdown",
   "metadata": {},
   "source": [
    "Let's modify the data again; instead of taking total number, we will only do a binary presence or absence"
   ]
  },
  {
   "cell_type": "code",
   "execution_count": 22,
   "metadata": {
    "collapsed": false
   },
   "outputs": [
    {
     "name": "stderr",
     "output_type": "stream",
     "text": [
      "/home/mickey/anaconda2/envs/MLPy3/lib/python3.6/site-packages/ipykernel/__main__.py:2: SettingWithCopyWarning: \n",
      "A value is trying to be set on a copy of a slice from a DataFrame.\n",
      "Try using .loc[row_indexer,col_indexer] = value instead\n",
      "\n",
      "See the caveats in the documentation: http://pandas.pydata.org/pandas-docs/stable/indexing.html#indexing-view-versus-copy\n",
      "  from ipykernel import kernelapp as app\n"
     ]
    },
    {
     "data": {
      "text/plain": [
       "<matplotlib.axes._subplots.AxesSubplot at 0x7f69f59917b8>"
      ]
     },
     "execution_count": 22,
     "metadata": {},
     "output_type": "execute_result"
    },
    {
     "data": {
      "image/png": "[encoded data removed]",
      "text/plain": [
       "<matplotlib.figure.Figure at 0x7f69f5793860>"
      ]
     },
     "metadata": {},
     "output_type": "display_data"
    },
    {
     "data": {
      "image/png": "[encoded data removed]",
      "text/plain": [
       "<matplotlib.figure.Figure at 0x7f69f5aac160>"
      ]
     },
     "metadata": {},
     "output_type": "display_data"
    }
   ],
   "source": [
    "temp = train_data[['Survived','ParentsChildren']]\n",
    "temp['ParentsChildren'] = temp['ParentsChildren'].apply(lambda x: 1 if x > 0 else 0)\n",
    "\n",
    "plt.figure()\n",
    "sns.countplot(x='ParentsChildren', hue='Survived', data=temp)\n",
    "plt.figure()\n",
    "sns.barplot(x='ParentsChildren', y='Survived', data=temp)"
   ]
  },
  {
   "cell_type": "code",
   "execution_count": 23,
   "metadata": {
    "collapsed": false
   },
   "outputs": [
    {
     "name": "stdout",
     "output_type": "stream",
     "text": [
      "Embarked v Survived\n"
     ]
    }
   ],
   "source": [
    "print (\"Embarked v Survived\")"
   ]
  },
  {
   "cell_type": "code",
   "execution_count": 24,
   "metadata": {
    "collapsed": false
   },
   "outputs": [
    {
     "data": {
      "text/plain": [
       "<matplotlib.axes._subplots.AxesSubplot at 0x7f69f57ae828>"
      ]
     },
     "execution_count": 24,
     "metadata": {},
     "output_type": "execute_result"
    },
    {
     "data": {
      "image/png": "[encoded data removed]",
      "text/plain": [
       "<matplotlib.figure.Figure at 0x7f69f5b7b550>"
      ]
     },
     "metadata": {},
     "output_type": "display_data"
    },
    {
     "data": {
      "image/png": "[encoded data removed]",
      "text/plain": [
       "<matplotlib.figure.Figure at 0x7f69f582b390>"
      ]
     },
     "metadata": {},
     "output_type": "display_data"
    }
   ],
   "source": [
    "temp = train_data[['Survived','Embarked']]\n",
    "\n",
    "plt.figure()\n",
    "sns.countplot(x='Embarked', hue='Survived', data=temp)\n",
    "plt.figure()\n",
    "sns.barplot(x='Embarked', y='Survived', data=temp)"
   ]
  },
  {
   "cell_type": "markdown",
   "metadata": {},
   "source": [
    "There seems to be a high number of non-survivors for people embarking from port S. My guess is there were probably more males from that port. Let's test that hypothesis."
   ]
  },
  {
   "cell_type": "code",
   "execution_count": 25,
   "metadata": {
    "collapsed": false
   },
   "outputs": [
    {
     "data": {
      "text/plain": [
       "<matplotlib.axes._subplots.AxesSubplot at 0x7f69f583cf28>"
      ]
     },
     "execution_count": 25,
     "metadata": {},
     "output_type": "execute_result"
    },
    {
     "data": {
      "image/png": "[encoded data removed]",
      "text/plain": [
       "<matplotlib.figure.Figure at 0x7f69f5b7bba8>"
      ]
     },
     "metadata": {},
     "output_type": "display_data"
    }
   ],
   "source": [
    "temp = train_data[['Embarked', 'Sex', 'Survived']]\n",
    "plt.figure()\n",
    "sns.countplot(x='Embarked', hue = 'Sex', data=temp)"
   ]
  },
  {
   "cell_type": "markdown",
   "metadata": {},
   "source": [
    "That seems to prove that port of embarkation doesn't really have any effect on survival rates; rather it's the sex of the passenger."
   ]
  },
  {
   "cell_type": "markdown",
   "metadata": {},
   "source": [
    "One thing we haven't looked at is the Name column. Let's take a look and see if we can infer anything"
   ]
  },
  {
   "cell_type": "code",
   "execution_count": 26,
   "metadata": {
    "collapsed": false
   },
   "outputs": [
    {
     "name": "stdout",
     "output_type": "stream",
     "text": [
      "30                              Uruchurtu, Don. Manuel E\n",
      "149                    Byles, Rev. Thomas Roussel Davids\n",
      "150                           Bateman, Rev. Robert James\n",
      "245                          Minahan, Dr. William Edward\n",
      "249                        Carter, Rev. Ernest Courtenay\n",
      "317                                 Moraweck, Dr. Ernest\n",
      "369                        Aubart, Mme. Leontine Pauline\n",
      "398                                     Pain, Dr. Alfred\n",
      "449                       Peuchen, Major. Arthur Godfrey\n",
      "536                    Butt, Major. Archibald Willingham\n",
      "626                       Kirkland, Rev. Charles Leonard\n",
      "632                            Stahelin-Maeglin, Dr. Max\n",
      "641                                 Sagesser, Mlle. Emma\n",
      "647                  Simonius-Blumer, Col. Oberst Alfons\n",
      "660                        Frauenthal, Dr. Henry William\n",
      "694                                      Weir, Col. John\n",
      "745                         Crosby, Capt. Edward Gifford\n",
      "759    Rothes, the Countess. of (Lucy Noel Martha Dye...\n",
      "766                            Brewe, Dr. Arthur Jackson\n",
      "796                          Leader, Dr. Alice (Farnham)\n",
      "822                      Reuchlin, Jonkheer. John George\n",
      "848                                    Harper, Rev. John\n",
      "886                                Montvila, Rev. Juozas\n",
      "Name: Name, dtype: object\n"
     ]
    }
   ],
   "source": [
    "temp = train_data[~(train_data['Name'].str.contains('Mr.') | train_data['Name'].str.contains('Master') | \\\n",
    "                  train_data['Name'].str.contains('Mrs.') | train_data['Name'].str.contains('Miss') | \\\n",
    "                  train_data['Name'].str.contains('Ms.'))]\n",
    "print (temp['Name'])"
   ]
  },
  {
   "cell_type": "markdown",
   "metadata": {},
   "source": [
    "Let's see whether these people survived or not. A lot of them are clergymen; a few doctors, captains, and some royalty."
   ]
  },
  {
   "cell_type": "code",
   "execution_count": 27,
   "metadata": {
    "collapsed": false
   },
   "outputs": [
    {
     "name": "stdout",
     "output_type": "stream",
     "text": [
      "     PassengerId  Survived  Pclass  \\\n",
      "369          370         1       1   \n",
      "449          450         1       1   \n",
      "632          633         1       1   \n",
      "641          642         1       1   \n",
      "647          648         1       1   \n",
      "660          661         1       1   \n",
      "759          760         1       1   \n",
      "796          797         1       1   \n",
      "\n",
      "                                                  Name     Sex   Age  \\\n",
      "369                      Aubart, Mme. Leontine Pauline  female  24.0   \n",
      "449                     Peuchen, Major. Arthur Godfrey    male  52.0   \n",
      "632                          Stahelin-Maeglin, Dr. Max    male  32.0   \n",
      "641                               Sagesser, Mlle. Emma  female  24.0   \n",
      "647                Simonius-Blumer, Col. Oberst Alfons    male  56.0   \n",
      "660                      Frauenthal, Dr. Henry William    male  50.0   \n",
      "759  Rothes, the Countess. of (Lucy Noel Martha Dye...  female  33.0   \n",
      "796                        Leader, Dr. Alice (Farnham)  female  49.0   \n",
      "\n",
      "     SiblingsSpouses  ParentsChildren    Ticket      Fare Cabin Embarked  \n",
      "369                0                0  PC 17477   69.3000   B35        C  \n",
      "449                0                0    113786   30.5000  C104        S  \n",
      "632                0                0     13214   30.5000   B50        C  \n",
      "641                0                0  PC 17477   69.3000   B35        C  \n",
      "647                0                0     13213   35.5000   A26        C  \n",
      "660                2                0  PC 17611  133.6500   NaN        S  \n",
      "759                0                0    110152   86.5000   B77        S  \n",
      "796                0                0     17465   25.9292   D17        S  \n"
     ]
    }
   ],
   "source": [
    "print (temp[temp['Survived'] == 1])"
   ]
  },
  {
   "cell_type": "markdown",
   "metadata": {},
   "source": [
    "So there is some correlation between your title and survival. Royalty is a good indicator of survival!"
   ]
  },
  {
   "cell_type": "markdown",
   "metadata": {},
   "source": [
    "So we will be using the following features:\n",
    "\n",
    "Sex, Pclass (these are self-explanatory from the graphs. Females, and first class have high survival rates)\n",
    "\n",
    "Age: for females, the graph didn't really have much going on. But for males, the youngest and oldest have much higher rates of survival\n",
    "\n",
    "Siblings/Spouses & Parents/Children: Travelling with companions does seem to increase survival odds. Or rather the other way around; travelling alone means higher rates of dying.\n",
    "\n",
    "Title: We will include title to include the edge cases for royalty.\n",
    "\n",
    "Port: We will not be using this feature; even though \"S\" has a high rate of dying, there are also almost twice the number of males at that port. The hidden feature here is just age again."
   ]
  },
  {
   "cell_type": "code",
   "execution_count": 28,
   "metadata": {
    "collapsed": false
   },
   "outputs": [],
   "source": [
    "train_data_features = pd.concat([train_data['Age'], train_data['Sex'], train_data['Pclass'], \\\n",
    "                                 train_data['SiblingsSpouses'], train_data['ParentsChildren'], \\\n",
    "                                train_data['Name']], axis=1)\n",
    "     \n",
    "train_data_features['SiblingsSpouses'] = train_data_features['SiblingsSpouses'].apply(lambda x: 1 if x > 0 else 0)\n",
    "train_data_features['ParentsChildren'] = train_data_features['ParentsChildren'].apply(lambda x: 1 if x > 0 else 0)\n",
    "train_data_features['Sex'] = train_data_features['Sex'].apply(lambda x: 1 if x =='female' else 0)\n",
    "\n",
    "train_data_features['Name'] = train_data_features['Name'].apply(lambda x: 0 if ('Mr.' in x or 'Master' in x or 'Mrs.' in x \\\n",
    "                                                                               or 'Miss' in x or 'Ms.' in x) else 1)"
   ]
  },
  {
   "cell_type": "markdown",
   "metadata": {},
   "source": [
    "Let's start with a very basic decision tree"
   ]
  },
  {
   "cell_type": "code",
   "execution_count": 29,
   "metadata": {
    "collapsed": true
   },
   "outputs": [],
   "source": [
    "from sklearn import tree\n",
    "basic_model = tree.DecisionTreeClassifier()"
   ]
  },
  {
   "cell_type": "markdown",
   "metadata": {},
   "source": [
    "Let's do a 10-fold cross-validation, and take the average accuracy of our model"
   ]
  },
  {
   "cell_type": "code",
   "execution_count": 30,
   "metadata": {
    "collapsed": false
   },
   "outputs": [
    {
     "name": "stdout",
     "output_type": "stream",
     "text": [
      "Basic Decision Tree accuracy:  0.793508114856\n"
     ]
    }
   ],
   "source": [
    "from sklearn.model_selection import KFold\n",
    "splits = 10\n",
    "kf = KFold(n_splits = splits, shuffle = True)\n",
    "accuracy = 0\n",
    "for train_fold, cv_fold in kf.split(train_data_features):\n",
    "    basic_model.fit(train_data_features.loc[train_fold], train_data.loc[train_fold,'Survived'])\n",
    "    y_true = train_data.loc[cv_fold, 'Survived']\n",
    "    accuracy = accuracy + basic_model.score(train_data_features.loc[cv_fold], y_true)\n",
    "\n",
    "accuracy = accuracy/splits\n",
    "\n",
    "print (\"Basic Decision Tree accuracy: \", accuracy)"
   ]
  },
  {
   "cell_type": "markdown",
   "metadata": {},
   "source": [
    "Depending on the shuffle, accuracy varies between 78% and 80%; not bad. Now let's try a more complex model"
   ]
  },
  {
   "cell_type": "code",
   "execution_count": 31,
   "metadata": {
    "collapsed": true
   },
   "outputs": [],
   "source": [
    "from sklearn import ensemble\n",
    "adaboostclassifier = ensemble.AdaBoostClassifier()"
   ]
  },
  {
   "cell_type": "code",
   "execution_count": 32,
   "metadata": {
    "collapsed": false
   },
   "outputs": [
    {
     "name": "stdout",
     "output_type": "stream",
     "text": [
      "Adaboost Decision tree accuracy:  0.800237203496\n"
     ]
    }
   ],
   "source": [
    "splits = 10\n",
    "kf = KFold(n_splits = splits, shuffle = True)\n",
    "accuracy = 0\n",
    "for train_fold, cv_fold in kf.split(train_data_features):    \n",
    "    adaboostclassifier.fit(train_data_features.loc[train_fold], train_data.loc[train_fold,'Survived'])\n",
    "    y_true = train_data.loc[cv_fold, 'Survived']\n",
    "    accuracy = accuracy + adaboostclassifier.score(train_data_features.loc[cv_fold], y_true)\n",
    "    \n",
    "accuracy = accuracy/10\n",
    "print (\"Adaboost Decision tree accuracy: \", accuracy)"
   ]
  },
  {
   "cell_type": "markdown",
   "metadata": {},
   "source": [
    "Accuracy is between 80% and 82%; A little better. Let's try another model."
   ]
  },
  {
   "cell_type": "code",
   "execution_count": 33,
   "metadata": {
    "collapsed": false
   },
   "outputs": [
    {
     "name": "stdout",
     "output_type": "stream",
     "text": [
      "Random Forests accuracy:  0.78570536829\n"
     ]
    }
   ],
   "source": [
    "splits = 10\n",
    "kf = KFold(n_splits = splits, shuffle = True)\n",
    "randomforestclassifier = ensemble.RandomForestClassifier()\n",
    "accuracy = 0\n",
    "for train_fold, cv_fold in kf.split(train_data_features): \n",
    "    randomforestclassifier.fit(train_data_features.loc[train_fold], train_data.loc[train_fold,'Survived'])\n",
    "    y_true = train_data.loc[cv_fold, 'Survived']\n",
    "    accuracy = accuracy + randomforestclassifier.score(train_data_features.loc[cv_fold], y_true)\n",
    "    \n",
    "accuracy = accuracy/10\n",
    "print (\"Random Forests accuracy: \", accuracy)"
   ]
  },
  {
   "cell_type": "markdown",
   "metadata": {},
   "source": [
    "Not bad; accuracy is between 78% and 80%. At this point, we can probably pick either of the three. Let's try to now work with Adaboost and vary it's parameters."
   ]
  },
  {
   "cell_type": "code",
   "execution_count": 34,
   "metadata": {
    "collapsed": false
   },
   "outputs": [
    {
     "name": "stdout",
     "output_type": "stream",
     "text": [
      "Adaboost Decision tree max accuracy:  0.898718609238 at 50 estimators.\n"
     ]
    }
   ],
   "source": [
    "splits = 10\n",
    "kf = KFold(n_splits = 10, shuffle = True)\n",
    "accuracy = 0\n",
    "max_accuracy = 0\n",
    "best_estimators = 0\n",
    "total_estimators = [10,20,30,40,50,60,70,80,90,100]\n",
    "for estimators in total_estimators:\n",
    "    adaboostclassifier = ensemble.AdaBoostClassifier(n_estimators=estimators)\n",
    "    for train_fold, cv_fold in kf.split(train_data_features):    \n",
    "        adaboostclassifier.fit(train_data_features.loc[train_fold], train_data.loc[train_fold,'Survived'])\n",
    "        y_true = train_data.loc[cv_fold, 'Survived']\n",
    "        accuracy = accuracy + adaboostclassifier.score(train_data_features.loc[cv_fold], y_true)    \n",
    "    accuracy = accuracy/10\n",
    "    if (accuracy > max_accuracy):\n",
    "        max_accuracy = accuracy\n",
    "        best_estimators = estimators\n",
    "\n",
    "\n",
    "print (\"Adaboost Decision tree max accuracy: \", max_accuracy, \"at\", best_estimators, \"estimators.\")"
   ]
  },
  {
   "cell_type": "markdown",
   "metadata": {},
   "source": [
    "Let's do something similar with our simplest model"
   ]
  },
  {
   "cell_type": "code",
   "execution_count": 35,
   "metadata": {
    "collapsed": false
   },
   "outputs": [
    {
     "name": "stdout",
     "output_type": "stream",
     "text": [
      "Basic Decision tree accuracy:  0.888798114856 at 4 depth.\n"
     ]
    }
   ],
   "source": [
    "splits = 10\n",
    "kf = KFold(n_splits = 10, shuffle = True)\n",
    "accuracy = 0\n",
    "max_accuracy = 0\n",
    "best_depth = 0\n",
    "depthrange = range(1, train_data_features.shape[1])\n",
    "for depth in depthrange:\n",
    "    basic_model = tree.DecisionTreeClassifier(max_depth = depth)\n",
    "    for train_fold, cv_fold in kf.split(train_data_features):    \n",
    "        basic_model.fit(train_data_features.loc[train_fold], train_data.loc[train_fold,'Survived'])\n",
    "        y_true = train_data.loc[cv_fold, 'Survived']\n",
    "        accuracy = accuracy + basic_model.score(train_data_features.loc[cv_fold], y_true)    \n",
    "    accuracy = accuracy/10\n",
    "    if (accuracy > max_accuracy):\n",
    "        max_accuracy = accuracy\n",
    "        best_depth = depth\n",
    "    \n",
    "print (\"Basic Decision tree accuracy: \", max_accuracy, \"at\", best_depth, \"depth.\")"
   ]
  },
  {
   "cell_type": "markdown",
   "metadata": {},
   "source": [
    "This is good; 88-90% accuracy at depths of 4 or 5 (depending on the shuffle)"
   ]
  },
  {
   "cell_type": "markdown",
   "metadata": {},
   "source": [
    "Now let's run the basic model against our test data. We will use a depth of 5."
   ]
  },
  {
   "cell_type": "code",
   "execution_count": 39,
   "metadata": {
    "collapsed": true
   },
   "outputs": [],
   "source": [
    "test_data_clean_features = pd.concat([test_data_clean['Age'], test_data_clean['Sex'], test_data_clean['Pclass'], \\\n",
    "                                 test_data_clean['SiblingsSpouses'], test_data_clean['ParentsChildren'], \\\n",
    "                                test_data_clean['Name']], axis=1)\n",
    "PID = test_data_clean['PassengerId']\n",
    "\n",
    "test_data_clean_features['SiblingsSpouses'] = test_data_clean_features['SiblingsSpouses'].apply(lambda x: 1 if x > 0 else 0)\n",
    "test_data_clean_features['ParentsChildren'] = test_data_clean_features['ParentsChildren'].apply(lambda x: 1 if x > 0 else 0)\n",
    "test_data_clean_features['Sex'] = test_data_clean_features['Sex'].apply(lambda x: 1 if x =='female' else 0)\n",
    "\n",
    "test_data_clean_features['Name'] = test_data_clean_features['Name'].apply(lambda x: 0 if ('Mr.' in x or 'Master' in x \\\n",
    "                                                                                          or 'Mrs.' in x or 'Miss' in x \\\n",
    "                                                                                          or 'Ms.' in x) else 1)"
   ]
  },
  {
   "cell_type": "code",
   "execution_count": 40,
   "metadata": {
    "collapsed": false
   },
   "outputs": [],
   "source": [
    "adaboostclassifier = ensemble.AdaBoostClassifier(n_estimators=70)\n",
    "adaboostclassifier.fit(train_data_features, train_data['Survived'])\n",
    "test_predictions = adaboostclassifier.predict(test_data_clean_features)\n",
    "submission = pd.DataFrame({\"PassengerId\" : PID, \"Survived\" : test_predictions})"
   ]
  },
  {
   "cell_type": "code",
   "execution_count": 41,
   "metadata": {
    "collapsed": true
   },
   "outputs": [],
   "source": [
    "submission.to_csv(\"submission.csv\", index=False)"
   ]
  },
  {
   "cell_type": "code",
   "execution_count": null,
   "metadata": {
    "collapsed": false
   },
   "outputs": [],
   "source": []
  }
 ],
 "metadata": {
  "kernelspec": {
   "display_name": "Python 3",
   "language": "python",
   "name": "python3"
  },
  "language_info": {
   "codemirror_mode": {
    "name": "ipython",
    "version": 3
   },
   "file_extension": ".py",
   "mimetype": "text/x-python",
   "name": "python",
   "nbconvert_exporter": "python",
   "pygments_lexer": "ipython3",
   "version": "3.6.0"
  }
 },
 "nbformat": 4,
 "nbformat_minor": 0
}
